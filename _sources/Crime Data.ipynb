{
 "cells": [
  {
   "cell_type": "markdown",
   "metadata": {},
   "source": [
    "# <span style = 'color: #00adee'> Crime Data"
   ]
  },
  {
   "cell_type": "markdown",
   "metadata": {},
   "source": [
    "People living in high crime areas can be at higher risk of substance miss-use. This is evident in areas of lower socio-economic status where there is an increased rate of unemployment, poor support systems and low rates of school retention. "
   ]
  },
  {
   "cell_type": "code",
   "execution_count": 2,
   "metadata": {
    "tags": [
     "hide-input"
    ]
   },
   "outputs": [],
   "source": [
    "import pandas as pd\n",
    "import numpy as np\n",
    "from IPython.display import IFrame"
   ]
  },
  {
   "cell_type": "code",
   "execution_count": 3,
   "metadata": {
    "tags": [
     "hide-input"
    ]
   },
   "outputs": [
    {
     "data": {
      "text/html": [
       "\n",
       "        <iframe\n",
       "            width=\"1140\"\n",
       "            height=\"541.25\"\n",
       "            src=\"https://app.powerbi.com/reportEmbed?reportId=51870c29-6892-4beb-aaaf-1ffecb639d03&autoAuth=true&ctid=282e8c9e-daf7-4f9e-a238-0330c86cc7a4&config=eyJjbHVzdGVyVXJsIjoiaHR0cHM6Ly93YWJpLWF1c3RyYWxpYS1zb3V0aGVhc3QtcmVkaXJlY3QuYW5hbHlzaXMud2luZG93cy5uZXQvIn0%3D\"\n",
       "            frameborder=\"0\"\n",
       "            allowfullscreen\n",
       "        ></iframe>\n",
       "        "
      ],
      "text/plain": [
       "<IPython.lib.display.IFrame at 0x1fbefd03370>"
      ]
     },
     "execution_count": 3,
     "metadata": {},
     "output_type": "execute_result"
    }
   ],
   "source": [
    "crimeData = 'https://app.powerbi.com/reportEmbed?reportId=51870c29-6892-4beb-aaaf-1ffecb639d03&autoAuth=true&ctid=282e8c9e-daf7-4f9e-a238-0330c86cc7a4&config=eyJjbHVzdGVyVXJsIjoiaHR0cHM6Ly93YWJpLWF1c3RyYWxpYS1zb3V0aGVhc3QtcmVkaXJlY3QuYW5hbHlzaXMud2luZG93cy5uZXQvIn0%3D'\n",
    "\n",
    "IFrame(crimeData, width = 1140, height = 541.25)"
   ]
  },
  {
   "cell_type": "markdown",
   "metadata": {},
   "source": [
    "From 2019 to 2020, there are 13123 drug-related offences happened in NWMPHN region, accounting for 33.6% of drug-related offences in Victoria. Among these, 10844 are drug use and possession offences.   \n",
    "In fact, the drug offence rate per LGA in NWMPHN is higher than the state average level in the past 10 years.    \n",
    "The table above shows the rate per 100,000 population for all drug offences in 2019-2020. It is clear to see that Melbourne had the highest drug offence rate (1775.46 per 100k) than any other LGAs in NWMPHN. Yarra (1143.04 per 100k), Darebin (764.77 per 100k), Brimbank (671.74 per 100k) and Hume (657.37 per 100k) are above the NWMPHN average level. 616 offences happened out of 100,000 population in Maribyrnong, which placed Maribyrnong below the NWMPHN average but above the state average. "
   ]
  }
 ],
 "metadata": {
  "kernelspec": {
   "display_name": "Python 3",
   "language": "python",
   "name": "python3"
  },
  "language_info": {
   "codemirror_mode": {
    "name": "ipython",
    "version": 3
   },
   "file_extension": ".py",
   "mimetype": "text/x-python",
   "name": "python",
   "nbconvert_exporter": "python",
   "pygments_lexer": "ipython3",
   "version": "3.8.3"
  }
 },
 "nbformat": 4,
 "nbformat_minor": 4
}
